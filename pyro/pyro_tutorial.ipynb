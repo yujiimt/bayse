{
  "nbformat": 4,
  "nbformat_minor": 0,
  "metadata": {
    "colab": {
      "name": "pyro_tutorial.ipynb",
      "provenance": []
    },
    "kernelspec": {
      "name": "python3",
      "display_name": "Python 3"
    }
  },
  "cells": [
    {
      "cell_type": "code",
      "metadata": {
        "id": "SXEx_r8x9l6P",
        "colab_type": "code",
        "colab": {
          "base_uri": "https://localhost:8080/",
          "height": 238
        },
        "outputId": "0ce3740c-de7e-4de4-87fc-e74dbea1b0b3"
      },
      "source": [
        "!wget https://s3-ap-northeast-1.amazonaws.com/dev.tech-sketch.jp/chakki/public/ja.text8.zip\n",
        "!unzip ja.text8.zip "
      ],
      "execution_count": null,
      "outputs": [
        {
          "output_type": "stream",
          "text": [
            "--2020-08-12 04:39:01--  https://s3-ap-northeast-1.amazonaws.com/dev.tech-sketch.jp/chakki/public/ja.text8.zip\n",
            "Resolving s3-ap-northeast-1.amazonaws.com (s3-ap-northeast-1.amazonaws.com)... 52.219.16.162\n",
            "Connecting to s3-ap-northeast-1.amazonaws.com (s3-ap-northeast-1.amazonaws.com)|52.219.16.162|:443... connected.\n",
            "HTTP request sent, awaiting response... 200 OK\n",
            "Length: 33905114 (32M) [application/zip]\n",
            "Saving to: ‘ja.text8.zip’\n",
            "\n",
            "ja.text8.zip        100%[===================>]  32.33M  8.53MB/s    in 3.8s    \n",
            "\n",
            "2020-08-12 04:39:06 (8.53 MB/s) - ‘ja.text8.zip’ saved [33905114/33905114]\n",
            "\n",
            "Archive:  ja.text8.zip\n",
            "  inflating: ja.text8                \n"
          ],
          "name": "stdout"
        }
      ]
    },
    {
      "cell_type": "code",
      "metadata": {
        "id": "YhPYi59i9qtf",
        "colab_type": "code",
        "colab": {}
      },
      "source": [
        "with open(\"ja.text8\", \"r\", encoding=\"utf-8\") as f:\n",
        "  text = f.read()\n",
        "  words = text.split()"
      ],
      "execution_count": null,
      "outputs": []
    },
    {
      "cell_type": "code",
      "metadata": {
        "id": "fn_j97_N-ASP",
        "colab_type": "code",
        "colab": {
          "base_uri": "https://localhost:8080/",
          "height": 34
        },
        "outputId": "3305db62-9d17-42de-ddf4-c16bdeb6d426"
      },
      "source": [
        "from collections import Counter\n",
        "Counter([\"cat\", \"dog\", \"cat\"])"
      ],
      "execution_count": null,
      "outputs": [
        {
          "output_type": "execute_result",
          "data": {
            "text/plain": [
              "Counter({'cat': 2, 'dog': 1})"
            ]
          },
          "metadata": {
            "tags": []
          },
          "execution_count": 4
        }
      ]
    },
    {
      "cell_type": "code",
      "metadata": {
        "id": "WTYL9lnk-RsK",
        "colab_type": "code",
        "colab": {
          "base_uri": "https://localhost:8080/",
          "height": 187
        },
        "outputId": "dc7a441d-f6a9-4f37-d8d1-0613255b51f7"
      },
      "source": [
        "fdigit = Counter(words)\n",
        "fdigit.most_common(n=10)"
      ],
      "execution_count": null,
      "outputs": [
        {
          "output_type": "execute_result",
          "data": {
            "text/plain": [
              "[('の', 828585),\n",
              " ('、', 785716),\n",
              " ('。', 532921),\n",
              " ('に', 527014),\n",
              " ('は', 488009),\n",
              " ('を', 423115),\n",
              " ('た', 421908),\n",
              " ('が', 353221),\n",
              " ('で', 350821),\n",
              " ('て', 259995)]"
            ]
          },
          "metadata": {
            "tags": []
          },
          "execution_count": 5
        }
      ]
    },
    {
      "cell_type": "code",
      "metadata": {
        "id": "uQt_m1G4-pvy",
        "colab_type": "code",
        "colab": {}
      },
      "source": [
        ""
      ],
      "execution_count": null,
      "outputs": []
    }
  ]
}